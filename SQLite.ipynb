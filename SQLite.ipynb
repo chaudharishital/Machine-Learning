{
 "cells": [
  {
   "cell_type": "code",
   "execution_count": 1,
   "id": "dd5193ee",
   "metadata": {},
   "outputs": [],
   "source": [
    "import sqlite3"
   ]
  },
  {
   "cell_type": "code",
   "execution_count": 2,
   "id": "76d525cc",
   "metadata": {},
   "outputs": [],
   "source": [
    "#sqlite is in-memory database system"
   ]
  },
  {
   "cell_type": "code",
   "execution_count": 3,
   "id": "e06c835a",
   "metadata": {},
   "outputs": [],
   "source": [
    "db=sqlite3.connect(\"ineuron.db\")"
   ]
  },
  {
   "cell_type": "code",
   "execution_count": 4,
   "id": "9c2e23fa",
   "metadata": {},
   "outputs": [
    {
     "name": "stdout",
     "output_type": "stream",
     "text": [
      " Volume in drive C has no label.\n",
      " Volume Serial Number is F2E3-C302\n",
      "\n",
      " Directory of C:\\Users\\Shital\n",
      "\n",
      "19-02-2022  11:11 PM            94,186  EDA and Feature Engineering - Flight Price Prediction Dataset.ipynb\n",
      "20-02-2022  10:53 AM    <DIR>          .\n",
      "20-02-2022  10:53 AM    <DIR>          ..\n",
      "05-09-2018  03:55 PM    <DIR>          .android\n",
      "24-07-2018  10:21 AM    <DIR>          .AndroidStudio3.1\n",
      "10-02-2022  12:28 AM    <DIR>          .conda\n",
      "07-02-2022  09:36 AM                25 .condarc\n",
      "07-02-2022  09:34 AM    <DIR>          .continuum\n",
      "12-02-2021  11:41 AM    <DIR>          .eclipse\n",
      "04-09-2018  08:58 PM    <DIR>          .gradle\n",
      "13-12-2019  10:48 AM    <DIR>          .idlerc\n",
      "20-02-2022  10:18 AM    <DIR>          .ipynb_checkpoints\n",
      "21-12-2021  09:27 PM    <DIR>          .ipython\n",
      "22-12-2021  08:30 PM    <DIR>          .jupyter\n",
      "05-01-2022  06:08 AM    <DIR>          .matplotlib\n",
      "15-02-2021  11:26 AM    <DIR>          .p2\n",
      "13-02-2022  08:53 AM                22 .python_history\n",
      "15-03-2021  08:10 PM    <DIR>          .VirtualBox\n",
      "17-01-2022  11:23 PM    <DIR>          3D Objects\n",
      "20-12-2021  06:12 AM    <DIR>          anaconda3\n",
      "05-07-2019  06:58 AM    <DIR>          AndroidStudioProjects\n",
      "09-01-2022  01:25 PM             7,042 Assignment 1.ipynb\n",
      "09-01-2022  02:20 PM             9,277 Assignment 2.ipynb\n",
      "09-01-2022  11:00 PM             6,083 Assignment 3.ipynb\n",
      "23-01-2022  09:54 PM            12,817 Assignment 4.ipynb\n",
      "23-01-2022  10:25 PM             6,264 Assignment 5.ipynb\n",
      "24-01-2022  11:11 AM            11,226 Assignment 6.ipynb\n",
      "27-01-2022  05:57 PM            11,556 Assignment 8.ipynb\n",
      "27-01-2022  06:26 PM             4,784 Assignment 9.ipynb\n",
      "18-01-2022  11:41 AM             8,541 Basic Assignment 4.ipynb\n",
      "06-02-2021  10:34 AM    <DIR>          Contacts\n",
      "18-02-2022  12:53 PM    <DIR>          Desktop\n",
      "17-02-2022  04:27 PM    <DIR>          Documents\n",
      "12-02-2021  04:31 PM    <DIR>          eclipse\n",
      "18-02-2022  11:09 PM           168,510 EDA and Feature Engineering on Black Friday Dataset.ipynb\n",
      "18-02-2022  12:07 PM           191,671 EDA on Zomato Dataset.ipynb\n",
      "06-02-2021  10:34 AM    <DIR>          Favorites\n",
      "06-04-2021  10:41 AM                43 file.txt\n",
      "28-09-2021  11:04 AM    <DIR>          IBA_IOAPDATA\n",
      "20-02-2022  10:51 AM             8,192 ineuron.db\n",
      "09-01-2022  12:37 PM             4,664 Krish Naik Interview Preparation.ipynb\n",
      "09-01-2022  10:51 AM             3,884 Krish Naik Interview Preparation-Copy1.ipynb\n",
      "06-02-2021  10:34 AM    <DIR>          Links\n",
      "17-01-2022  01:17 PM    <DIR>          Microsoft\n",
      "19-02-2022  11:26 AM            17,875 MongoDB Basics.ipynb\n",
      "02-12-2021  06:50 PM    <DIR>          Music\n",
      "14-09-2021  12:42 PM    <DIR>          OneDrive\n",
      "10-01-2022  07:36 PM         1,551,333 output.html\n",
      "02-12-2021  06:32 PM    <DIR>          Pictures\n",
      "09-01-2022  11:11 PM             3,387 Programming basic assignment 1.ipynb\n",
      "13-02-2022  04:34 AM    <DIR>          PycharmProjects\n",
      "06-02-2021  10:34 AM    <DIR>          Saved Games\n",
      "06-01-2022  02:43 PM    <DIR>          seaborn-data\n",
      "17-02-2022  07:28 PM    <DIR>          Searches\n",
      "17-01-2022  10:39 PM    <DIR>          Untitled Folder\n",
      "17-01-2022  10:39 PM    <DIR>          Untitled Folder 1\n",
      "17-01-2022  10:39 PM    <DIR>          Untitled Folder 2\n",
      "17-01-2022  10:40 PM    <DIR>          Untitled Folder 3\n",
      "17-01-2022  10:40 PM    <DIR>          Untitled Folder 4\n",
      "17-01-2022  10:40 PM    <DIR>          Untitled Folder 5\n",
      "17-01-2022  10:41 PM    <DIR>          Untitled Folder 6\n",
      "21-12-2021  09:29 PM             1,467 Untitled.ipynb\n",
      "09-01-2022  10:11 AM                 0 untitled.txt\n",
      "21-12-2021  09:44 PM             3,139 Untitled1.ipynb\n",
      "17-01-2022  10:40 PM                 0 untitled1.txt\n",
      "09-01-2022  11:02 PM                72 Untitled10.ipynb\n",
      "10-01-2022  07:39 PM            20,530 Untitled11.ipynb\n",
      "17-01-2022  10:39 PM                72 Untitled12.ipynb\n",
      "18-01-2022  11:29 AM             6,415 Untitled13.ipynb\n",
      "18-01-2022  10:12 AM               588 Untitled14.ipynb\n",
      "22-01-2022  06:11 PM             1,009 Untitled15.ipynb\n",
      "23-01-2022  12:45 PM             2,395 Untitled16.ipynb\n",
      "27-01-2022  04:18 PM             1,634 Untitled17.ipynb\n",
      "02-02-2022  11:50 AM               588 Untitled18.ipynb\n",
      "13-02-2022  08:35 AM             5,643 Untitled19.ipynb\n",
      "06-01-2022  09:12 PM           308,461 Untitled2.ipynb\n",
      "18-02-2022  11:16 AM             4,499 Untitled20.ipynb\n",
      "18-02-2022  10:06 PM               588 Untitled21.ipynb\n",
      "19-02-2022  10:52 AM               588 Untitled22.ipynb\n",
      "20-02-2022  10:53 AM            12,309 Untitled23.ipynb\n",
      "09-01-2022  09:51 AM                72 Untitled3.ipynb\n",
      "09-01-2022  10:15 AM             5,573 Untitled4.ipynb\n",
      "09-01-2022  01:25 PM             2,375 Untitled5.ipynb\n",
      "09-01-2022  10:48 AM             3,252 Untitled6.ipynb\n",
      "09-01-2022  01:19 PM             7,376 Untitled7.ipynb\n",
      "09-01-2022  02:18 PM             9,112 Untitled8.ipynb\n",
      "09-01-2022  10:40 PM             3,589 Untitled9.ipynb\n",
      "06-02-2021  10:34 AM    <DIR>          Videos\n",
      "15-03-2021  07:26 PM    <DIR>          VirtualBox VMs\n",
      "              47 File(s)      2,522,728 bytes\n",
      "              42 Dir(s)  17,981,022,208 bytes free\n"
     ]
    }
   ],
   "source": [
    "ls"
   ]
  },
  {
   "cell_type": "code",
   "execution_count": 5,
   "id": "93cc00b5",
   "metadata": {},
   "outputs": [],
   "source": [
    "c=db.cursor()"
   ]
  },
  {
   "cell_type": "code",
   "execution_count": 6,
   "id": "848ebd70",
   "metadata": {},
   "outputs": [
    {
     "ename": "OperationalError",
     "evalue": "table ineuron already exists",
     "output_type": "error",
     "traceback": [
      "\u001b[1;31m---------------------------------------------------------------------------\u001b[0m",
      "\u001b[1;31mOperationalError\u001b[0m                          Traceback (most recent call last)",
      "\u001b[1;32m~\\AppData\\Local\\Temp/ipykernel_6812/2561733528.py\u001b[0m in \u001b[0;36m<module>\u001b[1;34m\u001b[0m\n\u001b[1;32m----> 1\u001b[1;33m \u001b[0mc\u001b[0m\u001b[1;33m.\u001b[0m\u001b[0mexecute\u001b[0m\u001b[1;33m(\u001b[0m\u001b[1;34m'Create table ineuron(name text,batch_id int,marks real)'\u001b[0m\u001b[1;33m)\u001b[0m\u001b[1;33m\u001b[0m\u001b[1;33m\u001b[0m\u001b[0m\n\u001b[0m",
      "\u001b[1;31mOperationalError\u001b[0m: table ineuron already exists"
     ]
    }
   ],
   "source": [
    "c.execute('Create table ineuron(name text,batch_id int,marks real)')"
   ]
  },
  {
   "cell_type": "code",
   "execution_count": 7,
   "id": "5ac03bd5",
   "metadata": {},
   "outputs": [
    {
     "data": {
      "text/plain": [
       "<sqlite3.Cursor at 0x27ad1f588f0>"
      ]
     },
     "execution_count": 7,
     "metadata": {},
     "output_type": "execute_result"
    }
   ],
   "source": [
    "c.execute(\"insert into ineuron values('sudh',3456,90)\")"
   ]
  },
  {
   "cell_type": "code",
   "execution_count": 8,
   "id": "3228ff68",
   "metadata": {},
   "outputs": [
    {
     "data": {
      "text/plain": [
       "<sqlite3.Cursor at 0x27ad1f588f0>"
      ]
     },
     "execution_count": 8,
     "metadata": {},
     "output_type": "execute_result"
    }
   ],
   "source": [
    "c.execute(\"insert into ineuron values('sudh',3456,90)\")\n",
    "c.execute(\"insert into ineuron values('sudh',3456,90)\")\n",
    "c.execute(\"insert into ineuron values('sudh',3456,90)\")\n",
    "c.execute(\"insert into ineuron values('shital',3456,90)\")\n",
    "c.execute(\"insert into ineuron values('arti',3476,60)\")\n",
    "c.execute(\"insert into ineuron values('neha',3486,50)\")"
   ]
  },
  {
   "cell_type": "code",
   "execution_count": 9,
   "id": "3087c752",
   "metadata": {},
   "outputs": [],
   "source": [
    "data=c.execute(\"select * from ineuron\")"
   ]
  },
  {
   "cell_type": "code",
   "execution_count": 10,
   "id": "792ea4dc",
   "metadata": {},
   "outputs": [
    {
     "name": "stdout",
     "output_type": "stream",
     "text": [
      "('sudh', 3456, 90.0)\n",
      "('sudh', 3456, 90.0)\n",
      "('sudh', 3456, 90.0)\n",
      "('sudh', 3456, 90.0)\n",
      "('sudh', 3456, 90.0)\n",
      "('sudh', 3456, 90.0)\n",
      "('sudh', 3456, 90.0)\n",
      "('shital', 3456, 90.0)\n",
      "('arti', 3476, 60.0)\n",
      "('neha', 3486, 50.0)\n",
      "('sudh', 3456, 90.0)\n",
      "('sudh', 3456, 90.0)\n",
      "('sudh', 3456, 90.0)\n",
      "('sudh', 3456, 90.0)\n",
      "('shital', 3456, 90.0)\n",
      "('arti', 3476, 60.0)\n",
      "('neha', 3486, 50.0)\n"
     ]
    }
   ],
   "source": [
    "for i in data:\n",
    "    print(i)"
   ]
  },
  {
   "cell_type": "code",
   "execution_count": 11,
   "id": "5e6db462",
   "metadata": {},
   "outputs": [],
   "source": [
    "db.commit()"
   ]
  },
  {
   "cell_type": "code",
   "execution_count": 12,
   "id": "d78d837e",
   "metadata": {},
   "outputs": [],
   "source": [
    "db.close()"
   ]
  },
  {
   "cell_type": "code",
   "execution_count": 13,
   "id": "0318930f",
   "metadata": {},
   "outputs": [],
   "source": [
    "db=sqlite3.connect(\"ineuron.db\")"
   ]
  },
  {
   "cell_type": "code",
   "execution_count": 14,
   "id": "50d8d252",
   "metadata": {},
   "outputs": [],
   "source": [
    "c=db.cursor()"
   ]
  },
  {
   "cell_type": "code",
   "execution_count": 15,
   "id": "9521ff8e",
   "metadata": {},
   "outputs": [
    {
     "data": {
      "text/plain": [
       "<sqlite3.Cursor at 0x27ad20293b0>"
      ]
     },
     "execution_count": 15,
     "metadata": {},
     "output_type": "execute_result"
    }
   ],
   "source": [
    "c.execute(\"insert into ineuron values('shital',3456,90)\")\n",
    "c.execute(\"insert into ineuron values('arti',3476,60)\")\n",
    "c.execute(\"insert into ineuron values('neha',3486,50)\")"
   ]
  },
  {
   "cell_type": "code",
   "execution_count": 16,
   "id": "901c610e",
   "metadata": {},
   "outputs": [],
   "source": [
    "data=c.execute(\"select * from ineuron where name='sudh'\")"
   ]
  },
  {
   "cell_type": "code",
   "execution_count": 17,
   "id": "4e7f8c30",
   "metadata": {},
   "outputs": [
    {
     "name": "stdout",
     "output_type": "stream",
     "text": [
      "('sudh', 3456, 90.0)\n",
      "('sudh', 3456, 90.0)\n",
      "('sudh', 3456, 90.0)\n",
      "('sudh', 3456, 90.0)\n",
      "('sudh', 3456, 90.0)\n",
      "('sudh', 3456, 90.0)\n",
      "('sudh', 3456, 90.0)\n",
      "('sudh', 3456, 90.0)\n",
      "('sudh', 3456, 90.0)\n",
      "('sudh', 3456, 90.0)\n",
      "('sudh', 3456, 90.0)\n"
     ]
    }
   ],
   "source": [
    "for i in data:\n",
    "    print(i)"
   ]
  },
  {
   "cell_type": "code",
   "execution_count": 19,
   "id": "8e89a25b",
   "metadata": {},
   "outputs": [],
   "source": [
    "db.commit()"
   ]
  },
  {
   "cell_type": "code",
   "execution_count": 20,
   "id": "c486b4a3",
   "metadata": {},
   "outputs": [
    {
     "name": "stdout",
     "output_type": "stream",
     "text": [
      "('sudh', 3456, 90.0)\n",
      "('sudh', 3456, 90.0)\n",
      "('sudh', 3456, 90.0)\n",
      "('sudh', 3456, 90.0)\n",
      "('sudh', 3456, 90.0)\n",
      "('sudh', 3456, 90.0)\n",
      "('sudh', 3456, 90.0)\n",
      "('sudh', 3456, 90.0)\n",
      "('sudh', 3456, 90.0)\n",
      "('sudh', 3456, 90.0)\n",
      "('sudh', 3456, 90.0)\n"
     ]
    }
   ],
   "source": [
    "data=c.execute(\"select * from ineuron where name='sudh'\")\n",
    "for i in data:\n",
    "    print(i)"
   ]
  },
  {
   "cell_type": "code",
   "execution_count": 21,
   "id": "965f3abc",
   "metadata": {},
   "outputs": [],
   "source": [
    "for i in data:\n",
    "    print(i)"
   ]
  },
  {
   "cell_type": "code",
   "execution_count": 22,
   "id": "e1bd8abf",
   "metadata": {},
   "outputs": [],
   "source": [
    "db.close()"
   ]
  },
  {
   "cell_type": "code",
   "execution_count": 24,
   "id": "ce5f8854",
   "metadata": {},
   "outputs": [],
   "source": [
    "db=sqlite3.connect(\"person.db\")"
   ]
  },
  {
   "cell_type": "code",
   "execution_count": 25,
   "id": "f4a0f58a",
   "metadata": {},
   "outputs": [],
   "source": [
    "c=db.cursor()"
   ]
  },
  {
   "cell_type": "code",
   "execution_count": 26,
   "id": "68411ede",
   "metadata": {},
   "outputs": [
    {
     "data": {
      "text/plain": [
       "<sqlite3.Cursor at 0x27ad2029340>"
      ]
     },
     "execution_count": 26,
     "metadata": {},
     "output_type": "execute_result"
    }
   ],
   "source": [
    "c.execute(\"create table person_table(name text,email text,age int)\")"
   ]
  },
  {
   "cell_type": "code",
   "execution_count": 31,
   "id": "a790bf50",
   "metadata": {},
   "outputs": [
    {
     "data": {
      "text/plain": [
       "<sqlite3.Cursor at 0x27ad2029340>"
      ]
     },
     "execution_count": 31,
     "metadata": {},
     "output_type": "execute_result"
    }
   ],
   "source": [
    "c.execute(\"insert into person_table values('shital','shitalchaudhari529@gmail.com',24)\")"
   ]
  },
  {
   "cell_type": "code",
   "execution_count": 32,
   "id": "6f32830e",
   "metadata": {},
   "outputs": [
    {
     "data": {
      "text/plain": [
       "<sqlite3.Cursor at 0x27ad2029340>"
      ]
     },
     "execution_count": 32,
     "metadata": {},
     "output_type": "execute_result"
    }
   ],
   "source": [
    "c.execute(\"insert into person_table values('shital1','shitalchaudhari5291@gmail.com',27)\")\n",
    "c.execute(\"insert into person_table values('shital2','shitalchaudhari5292@gmail.com',29)\")\n",
    "c.execute(\"insert into person_table values('shital3','shitalchaudhari5293@gmail.com',23)\")\n",
    "c.execute(\"insert into person_table values('shital','shitalchaudhari529@gmail.com',35)\")\n",
    "c.execute(\"insert into person_table values('Puja','pujab529@gmail.com',23)\")\n",
    "c.execute(\"insert into person_table values('Sameksha','chaudhariS529@gmail.com',30)\")"
   ]
  },
  {
   "cell_type": "code",
   "execution_count": 36,
   "id": "534806b5",
   "metadata": {},
   "outputs": [],
   "source": [
    "data=c.execute(\"select * from person_table\")"
   ]
  },
  {
   "cell_type": "code",
   "execution_count": 37,
   "id": "9c33851e",
   "metadata": {},
   "outputs": [
    {
     "name": "stdout",
     "output_type": "stream",
     "text": [
      "('shital', 'shitalchaudhari529@gmail.com', 24)\n",
      "('shital1', 'shitalchaudhari5291@gmail.com', 27)\n",
      "('shital2', 'shitalchaudhari5292@gmail.com', 29)\n",
      "('shital3', 'shitalchaudhari5293@gmail.com', 23)\n",
      "('shital', 'shitalchaudhari529@gmail.com', 35)\n",
      "('Puja', 'pujab529@gmail.com', 23)\n",
      "('Sameksha', 'chaudhariS529@gmail.com', 30)\n"
     ]
    }
   ],
   "source": [
    "for i in data:\n",
    "    print(i)"
   ]
  },
  {
   "cell_type": "code",
   "execution_count": 39,
   "id": "20169d41",
   "metadata": {},
   "outputs": [],
   "source": [
    "db.commit()"
   ]
  },
  {
   "cell_type": "code",
   "execution_count": 40,
   "id": "46a50264",
   "metadata": {},
   "outputs": [],
   "source": [
    "db.close()"
   ]
  },
  {
   "cell_type": "code",
   "execution_count": 42,
   "id": "624b5809",
   "metadata": {},
   "outputs": [],
   "source": [
    "db=sqlite3.connect('ineuron.db')"
   ]
  },
  {
   "cell_type": "code",
   "execution_count": 43,
   "id": "679ab0f2",
   "metadata": {},
   "outputs": [],
   "source": [
    "c=db.cursor()"
   ]
  },
  {
   "cell_type": "code",
   "execution_count": 44,
   "id": "1bfc35b2",
   "metadata": {},
   "outputs": [
    {
     "data": {
      "text/plain": [
       "<sqlite3.Cursor at 0x27ad202f030>"
      ]
     },
     "execution_count": 44,
     "metadata": {},
     "output_type": "execute_result"
    }
   ],
   "source": [
    "c.execute('drop table ineuron')"
   ]
  },
  {
   "cell_type": "code",
   "execution_count": 45,
   "id": "87bddfea",
   "metadata": {},
   "outputs": [
    {
     "ename": "AttributeError",
     "evalue": "'sqlite3.Cursor' object has no attribute 'exceute'",
     "output_type": "error",
     "traceback": [
      "\u001b[1;31m---------------------------------------------------------------------------\u001b[0m",
      "\u001b[1;31mAttributeError\u001b[0m                            Traceback (most recent call last)",
      "\u001b[1;32m~\\AppData\\Local\\Temp/ipykernel_6812/2545632855.py\u001b[0m in \u001b[0;36m<module>\u001b[1;34m\u001b[0m\n\u001b[1;32m----> 1\u001b[1;33m \u001b[0mc\u001b[0m\u001b[1;33m.\u001b[0m\u001b[0mexceute\u001b[0m\u001b[1;33m(\u001b[0m\u001b[1;34m\"Select * from ineuron\"\u001b[0m\u001b[1;33m)\u001b[0m\u001b[1;33m\u001b[0m\u001b[1;33m\u001b[0m\u001b[0m\n\u001b[0m",
      "\u001b[1;31mAttributeError\u001b[0m: 'sqlite3.Cursor' object has no attribute 'exceute'"
     ]
    }
   ],
   "source": [
    "c.exceute(\"Select * from ineuron\")"
   ]
  },
  {
   "cell_type": "code",
   "execution_count": 46,
   "id": "0c71f279",
   "metadata": {},
   "outputs": [
    {
     "name": "stdout",
     "output_type": "stream",
     "text": [
      " Volume in drive C has no label.\n",
      " Volume Serial Number is F2E3-C302\n",
      "\n",
      " Directory of C:\\Users\\Shital\n",
      "\n",
      "19-02-2022  11:11 PM            94,186  EDA and Feature Engineering - Flight Price Prediction Dataset.ipynb\n",
      "20-02-2022  11:03 AM    <DIR>          .\n",
      "20-02-2022  11:03 AM    <DIR>          ..\n",
      "05-09-2018  03:55 PM    <DIR>          .android\n",
      "24-07-2018  10:21 AM    <DIR>          .AndroidStudio3.1\n",
      "10-02-2022  12:28 AM    <DIR>          .conda\n",
      "07-02-2022  09:36 AM                25 .condarc\n",
      "07-02-2022  09:34 AM    <DIR>          .continuum\n",
      "12-02-2021  11:41 AM    <DIR>          .eclipse\n",
      "04-09-2018  08:58 PM    <DIR>          .gradle\n",
      "13-12-2019  10:48 AM    <DIR>          .idlerc\n",
      "20-02-2022  10:18 AM    <DIR>          .ipynb_checkpoints\n",
      "21-12-2021  09:27 PM    <DIR>          .ipython\n",
      "22-12-2021  08:30 PM    <DIR>          .jupyter\n",
      "05-01-2022  06:08 AM    <DIR>          .matplotlib\n",
      "15-02-2021  11:26 AM    <DIR>          .p2\n",
      "13-02-2022  08:53 AM                22 .python_history\n",
      "15-03-2021  08:10 PM    <DIR>          .VirtualBox\n",
      "17-01-2022  11:23 PM    <DIR>          3D Objects\n",
      "20-12-2021  06:12 AM    <DIR>          anaconda3\n",
      "05-07-2019  06:58 AM    <DIR>          AndroidStudioProjects\n",
      "09-01-2022  01:25 PM             7,042 Assignment 1.ipynb\n",
      "09-01-2022  02:20 PM             9,277 Assignment 2.ipynb\n",
      "09-01-2022  11:00 PM             6,083 Assignment 3.ipynb\n",
      "23-01-2022  09:54 PM            12,817 Assignment 4.ipynb\n",
      "23-01-2022  10:25 PM             6,264 Assignment 5.ipynb\n",
      "24-01-2022  11:11 AM            11,226 Assignment 6.ipynb\n",
      "27-01-2022  05:57 PM            11,556 Assignment 8.ipynb\n",
      "27-01-2022  06:26 PM             4,784 Assignment 9.ipynb\n",
      "18-01-2022  11:41 AM             8,541 Basic Assignment 4.ipynb\n",
      "06-02-2021  10:34 AM    <DIR>          Contacts\n",
      "18-02-2022  12:53 PM    <DIR>          Desktop\n",
      "17-02-2022  04:27 PM    <DIR>          Documents\n",
      "12-02-2021  04:31 PM    <DIR>          eclipse\n",
      "18-02-2022  11:09 PM           168,510 EDA and Feature Engineering on Black Friday Dataset.ipynb\n",
      "18-02-2022  12:07 PM           191,671 EDA on Zomato Dataset.ipynb\n",
      "06-02-2021  10:34 AM    <DIR>          Favorites\n",
      "06-04-2021  10:41 AM                43 file.txt\n",
      "28-09-2021  11:04 AM    <DIR>          IBA_IOAPDATA\n",
      "20-02-2022  11:02 AM             8,192 ineuron.db\n",
      "09-01-2022  12:37 PM             4,664 Krish Naik Interview Preparation.ipynb\n",
      "09-01-2022  10:51 AM             3,884 Krish Naik Interview Preparation-Copy1.ipynb\n",
      "06-02-2021  10:34 AM    <DIR>          Links\n",
      "17-01-2022  01:17 PM    <DIR>          Microsoft\n",
      "19-02-2022  11:26 AM            17,875 MongoDB Basics.ipynb\n",
      "02-12-2021  06:50 PM    <DIR>          Music\n",
      "14-09-2021  12:42 PM    <DIR>          OneDrive\n",
      "10-01-2022  07:36 PM         1,551,333 output.html\n",
      "20-02-2022  11:00 AM             8,192 person.db\n",
      "02-12-2021  06:32 PM    <DIR>          Pictures\n",
      "09-01-2022  11:11 PM             3,387 Programming basic assignment 1.ipynb\n",
      "13-02-2022  04:34 AM    <DIR>          PycharmProjects\n",
      "06-02-2021  10:34 AM    <DIR>          Saved Games\n",
      "06-01-2022  02:43 PM    <DIR>          seaborn-data\n",
      "17-02-2022  07:28 PM    <DIR>          Searches\n",
      "17-01-2022  10:39 PM    <DIR>          Untitled Folder\n",
      "17-01-2022  10:39 PM    <DIR>          Untitled Folder 1\n",
      "17-01-2022  10:39 PM    <DIR>          Untitled Folder 2\n",
      "17-01-2022  10:40 PM    <DIR>          Untitled Folder 3\n",
      "17-01-2022  10:40 PM    <DIR>          Untitled Folder 4\n",
      "17-01-2022  10:40 PM    <DIR>          Untitled Folder 5\n",
      "17-01-2022  10:41 PM    <DIR>          Untitled Folder 6\n",
      "21-12-2021  09:29 PM             1,467 Untitled.ipynb\n",
      "09-01-2022  10:11 AM                 0 untitled.txt\n",
      "21-12-2021  09:44 PM             3,139 Untitled1.ipynb\n",
      "17-01-2022  10:40 PM                 0 untitled1.txt\n",
      "09-01-2022  11:02 PM                72 Untitled10.ipynb\n",
      "10-01-2022  07:39 PM            20,530 Untitled11.ipynb\n",
      "17-01-2022  10:39 PM                72 Untitled12.ipynb\n",
      "18-01-2022  11:29 AM             6,415 Untitled13.ipynb\n",
      "18-01-2022  10:12 AM               588 Untitled14.ipynb\n",
      "22-01-2022  06:11 PM             1,009 Untitled15.ipynb\n",
      "23-01-2022  12:45 PM             2,395 Untitled16.ipynb\n",
      "27-01-2022  04:18 PM             1,634 Untitled17.ipynb\n",
      "02-02-2022  11:50 AM               588 Untitled18.ipynb\n",
      "13-02-2022  08:35 AM             5,643 Untitled19.ipynb\n",
      "06-01-2022  09:12 PM           308,461 Untitled2.ipynb\n",
      "18-02-2022  11:16 AM             4,499 Untitled20.ipynb\n",
      "18-02-2022  10:06 PM               588 Untitled21.ipynb\n",
      "19-02-2022  10:52 AM               588 Untitled22.ipynb\n",
      "20-02-2022  11:03 AM            19,180 Untitled23.ipynb\n",
      "09-01-2022  09:51 AM                72 Untitled3.ipynb\n",
      "09-01-2022  10:15 AM             5,573 Untitled4.ipynb\n",
      "09-01-2022  01:25 PM             2,375 Untitled5.ipynb\n",
      "09-01-2022  10:48 AM             3,252 Untitled6.ipynb\n",
      "09-01-2022  01:19 PM             7,376 Untitled7.ipynb\n",
      "09-01-2022  02:18 PM             9,112 Untitled8.ipynb\n",
      "09-01-2022  10:40 PM             3,589 Untitled9.ipynb\n",
      "06-02-2021  10:34 AM    <DIR>          Videos\n",
      "15-03-2021  07:26 PM    <DIR>          VirtualBox VMs\n",
      "              48 File(s)      2,537,791 bytes\n",
      "              42 Dir(s)  17,978,814,464 bytes free\n"
     ]
    }
   ],
   "source": [
    "ls"
   ]
  },
  {
   "cell_type": "code",
   "execution_count": 47,
   "id": "e002a8ee",
   "metadata": {},
   "outputs": [],
   "source": [
    "db.close()"
   ]
  },
  {
   "cell_type": "code",
   "execution_count": 100,
   "id": "6668120f",
   "metadata": {},
   "outputs": [],
   "source": [
    "db=sqlite3.connect('person.db')"
   ]
  },
  {
   "cell_type": "code",
   "execution_count": 101,
   "id": "c26c33fd",
   "metadata": {},
   "outputs": [],
   "source": [
    "c=db.cursor()"
   ]
  },
  {
   "cell_type": "code",
   "execution_count": 102,
   "id": "f02f89d0",
   "metadata": {},
   "outputs": [],
   "source": [
    "data=c.execute(\"select * from person_table limit 2\")"
   ]
  },
  {
   "cell_type": "code",
   "execution_count": 103,
   "id": "e8880e9f",
   "metadata": {},
   "outputs": [
    {
     "name": "stdout",
     "output_type": "stream",
     "text": [
      "('shital', 'shitalchaudhari529@gmail.com', 24)\n",
      "('shital1', 'shitalchaudhari5291@gmail.com', 27)\n"
     ]
    }
   ],
   "source": [
    "for i in data:\n",
    "    print(i)"
   ]
  },
  {
   "cell_type": "code",
   "execution_count": 104,
   "id": "64ad2128",
   "metadata": {},
   "outputs": [],
   "source": [
    "c2=db.cursor()"
   ]
  },
  {
   "cell_type": "code",
   "execution_count": 105,
   "id": "644a97ea",
   "metadata": {},
   "outputs": [
    {
     "ename": "OperationalError",
     "evalue": "database is locked",
     "output_type": "error",
     "traceback": [
      "\u001b[1;31m---------------------------------------------------------------------------\u001b[0m",
      "\u001b[1;31mOperationalError\u001b[0m                          Traceback (most recent call last)",
      "\u001b[1;32m~\\AppData\\Local\\Temp/ipykernel_6812/532964583.py\u001b[0m in \u001b[0;36m<module>\u001b[1;34m\u001b[0m\n\u001b[1;32m----> 1\u001b[1;33m \u001b[0mc2\u001b[0m\u001b[1;33m.\u001b[0m\u001b[0mexecute\u001b[0m\u001b[1;33m(\u001b[0m\u001b[1;34m\"create table person_table3(name text,mail text,age int,roll_no int)\"\u001b[0m\u001b[1;33m)\u001b[0m\u001b[1;33m\u001b[0m\u001b[1;33m\u001b[0m\u001b[0m\n\u001b[0m",
      "\u001b[1;31mOperationalError\u001b[0m: database is locked"
     ]
    }
   ],
   "source": [
    "c2.execute(\"create table person_table3(name text,mail text,age int,roll_no int)\")"
   ]
  },
  {
   "cell_type": "code",
   "execution_count": null,
   "id": "e78e506c",
   "metadata": {},
   "outputs": [],
   "source": [
    "c2.execute(\"insert into person_table3 values('shital','shitalc@gmail.com',24,1612)\")"
   ]
  },
  {
   "cell_type": "code",
   "execution_count": 62,
   "id": "1962b5de",
   "metadata": {},
   "outputs": [
    {
     "data": {
      "text/plain": [
       "<sqlite3.Cursor at 0x27ad2033260>"
      ]
     },
     "execution_count": 62,
     "metadata": {},
     "output_type": "execute_result"
    }
   ],
   "source": [
    "c.execute(\"insert into person_table3 values('shital23','shitalc@gmail.com',24,1612)\")\n",
    "c.execute(\"insert into person_table2 values('shital13','shitalc@gmail.com',24,1612)\")\n",
    "c.execute(\"insert into person_table2 values('shital123','shitalc@gmail.com',24,1612)\")\n",
    "c.execute(\"insert into person_table2 values('shital232','shitalc@gmail.com',24,1612)\")"
   ]
  },
  {
   "cell_type": "code",
   "execution_count": 106,
   "id": "fe1d27d1",
   "metadata": {},
   "outputs": [],
   "source": [
    "db.commit()"
   ]
  },
  {
   "cell_type": "code",
   "execution_count": 107,
   "id": "5244c718",
   "metadata": {},
   "outputs": [],
   "source": [
    "db.close()"
   ]
  },
  {
   "cell_type": "code",
   "execution_count": 108,
   "id": "1e2640b2",
   "metadata": {},
   "outputs": [],
   "source": [
    "db=sqlite3.connect('person.db')\n",
    "c=db.cursor()\n",
    "data=c.execute(\"select * from person_table limit 2\")"
   ]
  },
  {
   "cell_type": "code",
   "execution_count": 110,
   "id": "343eb902",
   "metadata": {},
   "outputs": [
    {
     "name": "stdout",
     "output_type": "stream",
     "text": [
      "('shital', 'shitalchaudhari529@gmail.com', 24)\n",
      "('shital1', 'shitalchaudhari5291@gmail.com', 27)\n"
     ]
    }
   ],
   "source": [
    "for i in data:\n",
    "    print(i)"
   ]
  },
  {
   "cell_type": "code",
   "execution_count": 113,
   "id": "5551b848",
   "metadata": {},
   "outputs": [],
   "source": [
    "db=sqlite3.connect('student.db')\n",
    "c=db.cursor()\n",
    "data=c.execute(\"create table student_table(name text,roll_no int,marks int)\")"
   ]
  },
  {
   "cell_type": "code",
   "execution_count": 118,
   "id": "4e6e659d",
   "metadata": {},
   "outputs": [
    {
     "data": {
      "text/plain": [
       "<sqlite3.Cursor at 0x27ad2045ea0>"
      ]
     },
     "execution_count": 118,
     "metadata": {},
     "output_type": "execute_result"
    }
   ],
   "source": [
    "c.execute(\"insert into student_table values('shital',1612,100)\")\n",
    "c.execute(\"insert into student_table values('shital1',1614,99)\")\n",
    "c.execute(\"insert into student_table values('shital2',1613,60)\")\n",
    "c.execute(\"insert into student_table values('shital3',1612,107)\")\n",
    "c.execute(\"insert into student_table values('shital4',16121,109)\")"
   ]
  },
  {
   "cell_type": "code",
   "execution_count": 123,
   "id": "adc7616f",
   "metadata": {
    "scrolled": true
   },
   "outputs": [],
   "source": [
    "data=c.execute(\"select * from student_table\")\n"
   ]
  },
  {
   "cell_type": "code",
   "execution_count": 124,
   "id": "2b2d73d1",
   "metadata": {},
   "outputs": [
    {
     "name": "stdout",
     "output_type": "stream",
     "text": [
      "('shital', 1612, 100)\n",
      "('shital', 1612, 100)\n",
      "('shital', 1612, 100)\n",
      "('shital', 1612, 100)\n",
      "('shital', 1612, 100)\n",
      "('shital', 1612, 100)\n",
      "('shital', 1612, 100)\n",
      "('shital1', 1614, 99)\n",
      "('shital2', 16123, 60)\n",
      "('shital', 1612, 100)\n",
      "('shital1', 1614, 99)\n",
      "('shital2', 1613, 60)\n",
      "('shital', 1612, 100)\n",
      "('shital1', 1614, 99)\n",
      "('shital2', 1613, 60)\n",
      "('shital3', 1612, 107)\n",
      "('shital4', 16121, 109)\n"
     ]
    }
   ],
   "source": [
    "for i in c.execute(\"select * from student_table\"):\n",
    "        print(i)"
   ]
  },
  {
   "cell_type": "code",
   "execution_count": 128,
   "id": "622448dd",
   "metadata": {},
   "outputs": [],
   "source": [
    "db.commit()"
   ]
  },
  {
   "cell_type": "code",
   "execution_count": 129,
   "id": "f72b6f66",
   "metadata": {},
   "outputs": [],
   "source": [
    "db.close()"
   ]
  },
  {
   "cell_type": "code",
   "execution_count": 141,
   "id": "e40ff6ff",
   "metadata": {},
   "outputs": [],
   "source": [
    "db1=sqlite3.connect('student.db')\n",
    "c1=db1.cursor()\n",
    "data1=c1.execute(\"create table student_address2(name text,roll_no int,marks int,address text)\")"
   ]
  },
  {
   "cell_type": "code",
   "execution_count": 142,
   "id": "4b8c108d",
   "metadata": {},
   "outputs": [
    {
     "data": {
      "text/plain": [
       "<sqlite3.Cursor at 0x27ad2059180>"
      ]
     },
     "execution_count": 142,
     "metadata": {},
     "output_type": "execute_result"
    }
   ],
   "source": [
    "c1.execute(\"insert into student_address2 values('shital',1612,100,'pune')\")\n",
    "c1.execute(\"insert into student_address2 values('shital1',1614,99,'Mumbai')\")\n",
    "c1.execute(\"insert into student_address2 values('shital2',1613,60,'Banglore')\")\n",
    "c1.execute(\"insert into student_address2 values('shital3',1612,107,'Pune')\")\n",
    "c1.execute(\"insert into student_address2 values('shital4',16121,109,'Pune')\")"
   ]
  },
  {
   "cell_type": "code",
   "execution_count": 144,
   "id": "d815bf2c",
   "metadata": {},
   "outputs": [
    {
     "name": "stdout",
     "output_type": "stream",
     "text": [
      "('shital', 1612, 100, 'pune')\n",
      "('shital1', 1614, 99, 'Mumbai')\n",
      "('shital2', 1613, 60, 'Banglore')\n",
      "('shital3', 1612, 107, 'Pune')\n",
      "('shital4', 16121, 109, 'Pune')\n"
     ]
    }
   ],
   "source": [
    "for i in c1.execute(\"select * from student_address2\"):\n",
    "        print(i)"
   ]
  },
  {
   "cell_type": "code",
   "execution_count": 148,
   "id": "f8fa0ee6",
   "metadata": {},
   "outputs": [],
   "source": [
    "data=c1.execute(\"select * from student_table s left join student_address2 a on s.name=a.name\")"
   ]
  },
  {
   "cell_type": "code",
   "execution_count": 149,
   "id": "35e3541c",
   "metadata": {},
   "outputs": [
    {
     "name": "stdout",
     "output_type": "stream",
     "text": [
      "('shital', 1612, 100, 'shital', 1612, 100, 'pune')\n",
      "('shital', 1612, 100, 'shital', 1612, 100, 'pune')\n",
      "('shital', 1612, 100, 'shital', 1612, 100, 'pune')\n",
      "('shital', 1612, 100, 'shital', 1612, 100, 'pune')\n",
      "('shital', 1612, 100, 'shital', 1612, 100, 'pune')\n",
      "('shital', 1612, 100, 'shital', 1612, 100, 'pune')\n",
      "('shital', 1612, 100, 'shital', 1612, 100, 'pune')\n",
      "('shital1', 1614, 99, 'shital1', 1614, 99, 'Mumbai')\n",
      "('shital2', 16123, 60, 'shital2', 1613, 60, 'Banglore')\n",
      "('shital', 1612, 100, 'shital', 1612, 100, 'pune')\n",
      "('shital1', 1614, 99, 'shital1', 1614, 99, 'Mumbai')\n",
      "('shital2', 1613, 60, 'shital2', 1613, 60, 'Banglore')\n",
      "('shital', 1612, 100, 'shital', 1612, 100, 'pune')\n",
      "('shital1', 1614, 99, 'shital1', 1614, 99, 'Mumbai')\n",
      "('shital2', 1613, 60, 'shital2', 1613, 60, 'Banglore')\n",
      "('shital3', 1612, 107, 'shital3', 1612, 107, 'Pune')\n",
      "('shital4', 16121, 109, 'shital4', 16121, 109, 'Pune')\n"
     ]
    }
   ],
   "source": [
    "for i in data:\n",
    "    print(i)"
   ]
  },
  {
   "cell_type": "code",
   "execution_count": 159,
   "id": "a2070bd6",
   "metadata": {},
   "outputs": [],
   "source": [
    "db=sqlite3.connect('student.db')\n",
    "c=db.cursor()\n",
    "\n",
    "data=c.execute(\"select * from student_table\")"
   ]
  },
  {
   "cell_type": "code",
   "execution_count": 160,
   "id": "a3459e15",
   "metadata": {},
   "outputs": [
    {
     "name": "stdout",
     "output_type": "stream",
     "text": [
      "('shital', 1612, 100)\n",
      "('shital', 1612, 100)\n",
      "('shital', 1612, 100)\n",
      "('shital', 1612, 100)\n",
      "('shital', 1612, 100)\n",
      "('shital', 1612, 100)\n",
      "('shital', 1612, 100)\n",
      "('shital1', 1614, 99)\n",
      "('shital2', 16123, 60)\n",
      "('shital', 1612, 100)\n",
      "('shital1', 1614, 99)\n",
      "('shital2', 1613, 60)\n",
      "('shital', 1612, 100)\n",
      "('shital1', 1614, 99)\n",
      "('shital2', 1613, 60)\n",
      "('shital3', 1612, 107)\n",
      "('shital4', 16121, 109)\n"
     ]
    }
   ],
   "source": [
    "for i in data:\n",
    "    print(i)"
   ]
  },
  {
   "cell_type": "code",
   "execution_count": 167,
   "id": "307c3677",
   "metadata": {},
   "outputs": [
    {
     "data": {
      "text/plain": [
       "<sqlite3.Cursor at 0x27ad2059180>"
      ]
     },
     "execution_count": 167,
     "metadata": {},
     "output_type": "execute_result"
    }
   ],
   "source": [
    "c1.execute(\"delete from student_address2 where address='Mumbai'\")"
   ]
  },
  {
   "cell_type": "code",
   "execution_count": 168,
   "id": "34b03520",
   "metadata": {},
   "outputs": [
    {
     "name": "stdout",
     "output_type": "stream",
     "text": [
      "('shital', 1612, 100, 'pune')\n",
      "('shital2', 1613, 60, 'Banglore')\n",
      "('shital3', 1612, 107, 'Pune')\n",
      "('shital4', 16121, 109, 'Pune')\n"
     ]
    }
   ],
   "source": [
    "for i in c1.execute(\"select * from student_address2\"):\n",
    "        print(i)"
   ]
  },
  {
   "cell_type": "code",
   "execution_count": 170,
   "id": "a02b461e",
   "metadata": {},
   "outputs": [
    {
     "data": {
      "text/plain": [
       "<sqlite3.Cursor at 0x27ad2059180>"
      ]
     },
     "execution_count": 170,
     "metadata": {},
     "output_type": "execute_result"
    }
   ],
   "source": [
    "c1.execute(\"update student_address2 set address='Mumbai' where address='Pune'\")"
   ]
  },
  {
   "cell_type": "code",
   "execution_count": 171,
   "id": "32da0612",
   "metadata": {},
   "outputs": [
    {
     "name": "stdout",
     "output_type": "stream",
     "text": [
      "('shital', 1612, 100, 'pune')\n",
      "('shital2', 1613, 60, 'Banglore')\n",
      "('shital3', 1612, 107, 'Mumbai')\n",
      "('shital4', 16121, 109, 'Mumbai')\n"
     ]
    }
   ],
   "source": [
    "for i in c1.execute(\"select * from student_address2\"):\n",
    "        print(i)"
   ]
  },
  {
   "cell_type": "code",
   "execution_count": null,
   "id": "e060c829",
   "metadata": {},
   "outputs": [],
   "source": []
  },
  {
   "cell_type": "code",
   "execution_count": null,
   "id": "70c3d7a8",
   "metadata": {},
   "outputs": [],
   "source": []
  },
  {
   "cell_type": "code",
   "execution_count": null,
   "id": "0709aa1f",
   "metadata": {},
   "outputs": [],
   "source": []
  }
 ],
 "metadata": {
  "kernelspec": {
   "display_name": "Python 3 (ipykernel)",
   "language": "python",
   "name": "python3"
  },
  "language_info": {
   "codemirror_mode": {
    "name": "ipython",
    "version": 3
   },
   "file_extension": ".py",
   "mimetype": "text/x-python",
   "name": "python",
   "nbconvert_exporter": "python",
   "pygments_lexer": "ipython3",
   "version": "3.9.7"
  }
 },
 "nbformat": 4,
 "nbformat_minor": 5
}
